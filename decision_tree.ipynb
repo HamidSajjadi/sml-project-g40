{
 "cells": [
  {
   "cell_type": "markdown",
   "metadata": {},
   "source": [
    "## Decision Tree Based Methods\n",
    "This notebook includes the code for testing decision tree based methods on the hollywood lead actors dataset."
   ]
  },
  {
   "cell_type": "code",
   "execution_count": 1,
   "metadata": {},
   "outputs": [],
   "source": [
    "import json\n",
    "\n",
    "import joblib\n",
    "import numpy as np\n",
    "import pandas as pd\n",
    "from sklearn import tree\n",
    "from sklearn.ensemble import BaggingClassifier, RandomForestClassifier\n",
    "from sklearn.model_selection import GridSearchCV\n",
    "from sklearn.pipeline import Pipeline\n",
    "from sklearn.tree import DecisionTreeClassifier\n",
    "from sklearn.preprocessing import RobustScaler\n",
    "import os"
   ]
  },
  {
   "cell_type": "code",
   "execution_count": 2,
   "metadata": {},
   "outputs": [],
   "source": [
    "## Config Variables\n",
    "data_dir = './data'\n",
    "save_res_dir = \"./results/dec_tree\"\n",
    "if not os.path.exists(save_res_dir):\n",
    "   os.makedirs(save_res_dir)\n",
    "\n",
    "CV = 5\n",
    "metrics = ['precision', 'recall', 'f1', 'accuracy']\n",
    "random_state=42"
   ]
  },
  {
   "cell_type": "code",
   "execution_count": 3,
   "metadata": {},
   "outputs": [],
   "source": [
    "\n",
    "def save_best_estimator(clf, name):\n",
    "    best_model_stats = {}\n",
    "\n",
    "    for metric in metrics:\n",
    "        best_model_stats[metric] = {}\n",
    "        rank_key = f\"rank_test_{metric}\"\n",
    "        important_index = clf.cv_results_[rank_key].tolist().index(1)\n",
    "\n",
    "        for key, val in clf.cv_results_.items():\n",
    "            real_val = val[important_index]\n",
    "            if 'numpy' in str(type(real_val)):\n",
    "                if 'float' in str(type(real_val)):\n",
    "                    best_model_stats[metric][key] = float(real_val)\n",
    "                else:\n",
    "                    best_model_stats[metric][key] = int(real_val)\n",
    "            else:\n",
    "                best_model_stats[metric][key] = real_val\n",
    "    joblib.dump(clf.best_estimator_, f'{name}.pkl', compress=1)\n",
    "    with open(f\"{save_res_dir}/dec_tree/{name}_stats.json\", 'w') as jf:\n",
    "        json.dump(best_model_stats, jf, indent=4)"
   ]
  },
  {
   "cell_type": "markdown",
   "metadata": {},
   "source": [
    "## Reading and Cleaning Data\n",
    "We use scale some variables with logScaler, and decided to remove `Total words`, `Gross` and `year` from dataset. As to why we did that, please refer to the report PDF and data analysis part"
   ]
  },
  {
   "cell_type": "code",
   "execution_count": null,
   "metadata": {},
   "outputs": [],
   "source": [
    "data_dir = \"./data\"\n",
    "df = pd.read_csv(os.path.join(data_dir, \"train.csv\"))\n",
    "logscaled = ['Number words female', 'Number of words lead',\n",
    "             'Difference in words lead and co-lead', 'Number of male actors',\n",
    "             'Number of female actors', 'Number words male']\n",
    "\n",
    "for col in logscaled:\n",
    "    df[col] = np.log(df[col] + 1)\n",
    "\n",
    "df = df.drop(columns=[\"Gross\", \"Total words\", \"Year\"])\n",
    "\n",
    "x = df.drop(\"Lead\")\n",
    "y = df['Lead'].replace({\"Male\": 0, \"Female\": 1})\n"
   ]
  },
  {
   "cell_type": "markdown",
   "metadata": {},
   "source": [
    "## Decision Tree Classifier"
   ]
  },
  {
   "cell_type": "code",
   "execution_count": null,
   "metadata": {},
   "outputs": [],
   "source": [
    "parameters = {'model__criterion': [\"gini\", \"entropy\", \"log_loss\"], 'model__max_depth': range(3, 15),\n",
    "              'model__min_samples_leaf': range(1, 10),\n",
    "              'model__min_samples_split': range(2, 10)}\n",
    "model = Pipeline([('scaler', RobustScaler()), ('model', DecisionTreeClassifier())])\n",
    "\n",
    "clf = GridSearchCV(model, parameters, n_jobs=4, cv=CV, refit=\"accuracy\",\n",
    "                   scoring=metrics, random_state=random_state)\n",
    "clf.fit(X=x.values, y=y)\n",
    "save_best_estimator(clf, \"decisionTree\")\n",
    "print(\"decision tree best result\", clf.best_score_, clf.best_params_)\n"
   ]
  }
 ],
 "metadata": {
  "kernelspec": {
   "display_name": "Python 3.9.9 64-bit",
   "language": "python",
   "name": "python3"
  },
  "language_info": {
   "codemirror_mode": {
    "name": "ipython",
    "version": 3
   },
   "file_extension": ".py",
   "mimetype": "text/x-python",
   "name": "python",
   "nbconvert_exporter": "python",
   "pygments_lexer": "ipython3",
   "version": "3.9.9"
  },
  "orig_nbformat": 4,
  "vscode": {
   "interpreter": {
    "hash": "11938c6bc6919ae2720b4d5011047913343b08a43b18698fd82dedb0d4417594"
   }
  }
 },
 "nbformat": 4,
 "nbformat_minor": 2
}
